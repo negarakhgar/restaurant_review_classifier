{
  "cells": [
    {
      "cell_type": "markdown",
      "metadata": {
        "id": "G_vy6gc-A7a4"
      },
      "source": [
        "**BUSINESS PROBLEM**"
      ]
    },
    {
      "cell_type": "code",
      "execution_count": 56,
      "metadata": {
        "id": "j0E1KMtk0aE1"
      },
      "outputs": [],
      "source": [
        "import numpy as np\n",
        "import matplotlib.pyplot as plt\n",
        "import pandas as pd\n"
      ]
    },
    {
      "cell_type": "code",
      "execution_count": 59,
      "metadata": {
        "id": "KrW_WxD3B8A_"
      },
      "outputs": [],
      "source": [
        "data = pd.read_csv(\"Restaurant_Reviews.tsv\" , sep = '\\t' , quoting = 3)"
      ]
    },
    {
      "cell_type": "code",
      "source": [
        "data.head()"
      ],
      "metadata": {
        "colab": {
          "base_uri": "https://localhost:8080/",
          "height": 204
        },
        "id": "1dUyAAJ5WXoG",
        "outputId": "8fb14019-7dc4-46d0-f9a3-a7444e394845"
      },
      "execution_count": 60,
      "outputs": [
        {
          "output_type": "execute_result",
          "data": {
            "text/plain": [
              "                                              Review  Liked\n",
              "0                           Wow... Loved this place.      1\n",
              "1                                 Crust is not good.      0\n",
              "2          Not tasty and the texture was just nasty.      0\n",
              "3  Stopped by during the late May bank holiday of...      1\n",
              "4  The selection on the menu was great and so wer...      1"
            ],
            "text/html": [
              "\n",
              "  <div id=\"df-a8fb6829-6343-486d-8199-7aee65f51b75\" class=\"colab-df-container\">\n",
              "    <div>\n",
              "<style scoped>\n",
              "    .dataframe tbody tr th:only-of-type {\n",
              "        vertical-align: middle;\n",
              "    }\n",
              "\n",
              "    .dataframe tbody tr th {\n",
              "        vertical-align: top;\n",
              "    }\n",
              "\n",
              "    .dataframe thead th {\n",
              "        text-align: right;\n",
              "    }\n",
              "</style>\n",
              "<table border=\"1\" class=\"dataframe\">\n",
              "  <thead>\n",
              "    <tr style=\"text-align: right;\">\n",
              "      <th></th>\n",
              "      <th>Review</th>\n",
              "      <th>Liked</th>\n",
              "    </tr>\n",
              "  </thead>\n",
              "  <tbody>\n",
              "    <tr>\n",
              "      <th>0</th>\n",
              "      <td>Wow... Loved this place.</td>\n",
              "      <td>1</td>\n",
              "    </tr>\n",
              "    <tr>\n",
              "      <th>1</th>\n",
              "      <td>Crust is not good.</td>\n",
              "      <td>0</td>\n",
              "    </tr>\n",
              "    <tr>\n",
              "      <th>2</th>\n",
              "      <td>Not tasty and the texture was just nasty.</td>\n",
              "      <td>0</td>\n",
              "    </tr>\n",
              "    <tr>\n",
              "      <th>3</th>\n",
              "      <td>Stopped by during the late May bank holiday of...</td>\n",
              "      <td>1</td>\n",
              "    </tr>\n",
              "    <tr>\n",
              "      <th>4</th>\n",
              "      <td>The selection on the menu was great and so wer...</td>\n",
              "      <td>1</td>\n",
              "    </tr>\n",
              "  </tbody>\n",
              "</table>\n",
              "</div>\n",
              "    <div class=\"colab-df-buttons\">\n",
              "\n",
              "  <div class=\"colab-df-container\">\n",
              "    <button class=\"colab-df-convert\" onclick=\"convertToInteractive('df-a8fb6829-6343-486d-8199-7aee65f51b75')\"\n",
              "            title=\"Convert this dataframe to an interactive table.\"\n",
              "            style=\"display:none;\">\n",
              "\n",
              "  <svg xmlns=\"http://www.w3.org/2000/svg\" height=\"24px\" viewBox=\"0 -960 960 960\">\n",
              "    <path d=\"M120-120v-720h720v720H120Zm60-500h600v-160H180v160Zm220 220h160v-160H400v160Zm0 220h160v-160H400v160ZM180-400h160v-160H180v160Zm440 0h160v-160H620v160ZM180-180h160v-160H180v160Zm440 0h160v-160H620v160Z\"/>\n",
              "  </svg>\n",
              "    </button>\n",
              "\n",
              "  <style>\n",
              "    .colab-df-container {\n",
              "      display:flex;\n",
              "      gap: 12px;\n",
              "    }\n",
              "\n",
              "    .colab-df-convert {\n",
              "      background-color: #E8F0FE;\n",
              "      border: none;\n",
              "      border-radius: 50%;\n",
              "      cursor: pointer;\n",
              "      display: none;\n",
              "      fill: #1967D2;\n",
              "      height: 32px;\n",
              "      padding: 0 0 0 0;\n",
              "      width: 32px;\n",
              "    }\n",
              "\n",
              "    .colab-df-convert:hover {\n",
              "      background-color: #E2EBFA;\n",
              "      box-shadow: 0px 1px 2px rgba(60, 64, 67, 0.3), 0px 1px 3px 1px rgba(60, 64, 67, 0.15);\n",
              "      fill: #174EA6;\n",
              "    }\n",
              "\n",
              "    .colab-df-buttons div {\n",
              "      margin-bottom: 4px;\n",
              "    }\n",
              "\n",
              "    [theme=dark] .colab-df-convert {\n",
              "      background-color: #3B4455;\n",
              "      fill: #D2E3FC;\n",
              "    }\n",
              "\n",
              "    [theme=dark] .colab-df-convert:hover {\n",
              "      background-color: #434B5C;\n",
              "      box-shadow: 0px 1px 3px 1px rgba(0, 0, 0, 0.15);\n",
              "      filter: drop-shadow(0px 1px 2px rgba(0, 0, 0, 0.3));\n",
              "      fill: #FFFFFF;\n",
              "    }\n",
              "  </style>\n",
              "\n",
              "    <script>\n",
              "      const buttonEl =\n",
              "        document.querySelector('#df-a8fb6829-6343-486d-8199-7aee65f51b75 button.colab-df-convert');\n",
              "      buttonEl.style.display =\n",
              "        google.colab.kernel.accessAllowed ? 'block' : 'none';\n",
              "\n",
              "      async function convertToInteractive(key) {\n",
              "        const element = document.querySelector('#df-a8fb6829-6343-486d-8199-7aee65f51b75');\n",
              "        const dataTable =\n",
              "          await google.colab.kernel.invokeFunction('convertToInteractive',\n",
              "                                                    [key], {});\n",
              "        if (!dataTable) return;\n",
              "\n",
              "        const docLinkHtml = 'Like what you see? Visit the ' +\n",
              "          '<a target=\"_blank\" href=https://colab.research.google.com/notebooks/data_table.ipynb>data table notebook</a>'\n",
              "          + ' to learn more about interactive tables.';\n",
              "        element.innerHTML = '';\n",
              "        dataTable['output_type'] = 'display_data';\n",
              "        await google.colab.output.renderOutput(dataTable, element);\n",
              "        const docLink = document.createElement('div');\n",
              "        docLink.innerHTML = docLinkHtml;\n",
              "        element.appendChild(docLink);\n",
              "      }\n",
              "    </script>\n",
              "  </div>\n",
              "\n",
              "\n",
              "<div id=\"df-76d0e8a2-60bf-4c4a-ae0b-8c6e9d5a171f\">\n",
              "  <button class=\"colab-df-quickchart\" onclick=\"quickchart('df-76d0e8a2-60bf-4c4a-ae0b-8c6e9d5a171f')\"\n",
              "            title=\"Suggest charts\"\n",
              "            style=\"display:none;\">\n",
              "\n",
              "<svg xmlns=\"http://www.w3.org/2000/svg\" height=\"24px\"viewBox=\"0 0 24 24\"\n",
              "     width=\"24px\">\n",
              "    <g>\n",
              "        <path d=\"M19 3H5c-1.1 0-2 .9-2 2v14c0 1.1.9 2 2 2h14c1.1 0 2-.9 2-2V5c0-1.1-.9-2-2-2zM9 17H7v-7h2v7zm4 0h-2V7h2v10zm4 0h-2v-4h2v4z\"/>\n",
              "    </g>\n",
              "</svg>\n",
              "  </button>\n",
              "\n",
              "<style>\n",
              "  .colab-df-quickchart {\n",
              "      --bg-color: #E8F0FE;\n",
              "      --fill-color: #1967D2;\n",
              "      --hover-bg-color: #E2EBFA;\n",
              "      --hover-fill-color: #174EA6;\n",
              "      --disabled-fill-color: #AAA;\n",
              "      --disabled-bg-color: #DDD;\n",
              "  }\n",
              "\n",
              "  [theme=dark] .colab-df-quickchart {\n",
              "      --bg-color: #3B4455;\n",
              "      --fill-color: #D2E3FC;\n",
              "      --hover-bg-color: #434B5C;\n",
              "      --hover-fill-color: #FFFFFF;\n",
              "      --disabled-bg-color: #3B4455;\n",
              "      --disabled-fill-color: #666;\n",
              "  }\n",
              "\n",
              "  .colab-df-quickchart {\n",
              "    background-color: var(--bg-color);\n",
              "    border: none;\n",
              "    border-radius: 50%;\n",
              "    cursor: pointer;\n",
              "    display: none;\n",
              "    fill: var(--fill-color);\n",
              "    height: 32px;\n",
              "    padding: 0;\n",
              "    width: 32px;\n",
              "  }\n",
              "\n",
              "  .colab-df-quickchart:hover {\n",
              "    background-color: var(--hover-bg-color);\n",
              "    box-shadow: 0 1px 2px rgba(60, 64, 67, 0.3), 0 1px 3px 1px rgba(60, 64, 67, 0.15);\n",
              "    fill: var(--button-hover-fill-color);\n",
              "  }\n",
              "\n",
              "  .colab-df-quickchart-complete:disabled,\n",
              "  .colab-df-quickchart-complete:disabled:hover {\n",
              "    background-color: var(--disabled-bg-color);\n",
              "    fill: var(--disabled-fill-color);\n",
              "    box-shadow: none;\n",
              "  }\n",
              "\n",
              "  .colab-df-spinner {\n",
              "    border: 2px solid var(--fill-color);\n",
              "    border-color: transparent;\n",
              "    border-bottom-color: var(--fill-color);\n",
              "    animation:\n",
              "      spin 1s steps(1) infinite;\n",
              "  }\n",
              "\n",
              "  @keyframes spin {\n",
              "    0% {\n",
              "      border-color: transparent;\n",
              "      border-bottom-color: var(--fill-color);\n",
              "      border-left-color: var(--fill-color);\n",
              "    }\n",
              "    20% {\n",
              "      border-color: transparent;\n",
              "      border-left-color: var(--fill-color);\n",
              "      border-top-color: var(--fill-color);\n",
              "    }\n",
              "    30% {\n",
              "      border-color: transparent;\n",
              "      border-left-color: var(--fill-color);\n",
              "      border-top-color: var(--fill-color);\n",
              "      border-right-color: var(--fill-color);\n",
              "    }\n",
              "    40% {\n",
              "      border-color: transparent;\n",
              "      border-right-color: var(--fill-color);\n",
              "      border-top-color: var(--fill-color);\n",
              "    }\n",
              "    60% {\n",
              "      border-color: transparent;\n",
              "      border-right-color: var(--fill-color);\n",
              "    }\n",
              "    80% {\n",
              "      border-color: transparent;\n",
              "      border-right-color: var(--fill-color);\n",
              "      border-bottom-color: var(--fill-color);\n",
              "    }\n",
              "    90% {\n",
              "      border-color: transparent;\n",
              "      border-bottom-color: var(--fill-color);\n",
              "    }\n",
              "  }\n",
              "</style>\n",
              "\n",
              "  <script>\n",
              "    async function quickchart(key) {\n",
              "      const quickchartButtonEl =\n",
              "        document.querySelector('#' + key + ' button');\n",
              "      quickchartButtonEl.disabled = true;  // To prevent multiple clicks.\n",
              "      quickchartButtonEl.classList.add('colab-df-spinner');\n",
              "      try {\n",
              "        const charts = await google.colab.kernel.invokeFunction(\n",
              "            'suggestCharts', [key], {});\n",
              "      } catch (error) {\n",
              "        console.error('Error during call to suggestCharts:', error);\n",
              "      }\n",
              "      quickchartButtonEl.classList.remove('colab-df-spinner');\n",
              "      quickchartButtonEl.classList.add('colab-df-quickchart-complete');\n",
              "    }\n",
              "    (() => {\n",
              "      let quickchartButtonEl =\n",
              "        document.querySelector('#df-76d0e8a2-60bf-4c4a-ae0b-8c6e9d5a171f button');\n",
              "      quickchartButtonEl.style.display =\n",
              "        google.colab.kernel.accessAllowed ? 'block' : 'none';\n",
              "    })();\n",
              "  </script>\n",
              "</div>\n",
              "\n",
              "    </div>\n",
              "  </div>\n"
            ],
            "application/vnd.google.colaboratory.intrinsic+json": {
              "type": "dataframe",
              "variable_name": "data",
              "summary": "{\n  \"name\": \"data\",\n  \"rows\": 1000,\n  \"fields\": [\n    {\n      \"column\": \"Review\",\n      \"properties\": {\n        \"dtype\": \"string\",\n        \"num_unique_values\": 996,\n        \"samples\": [\n          \"They were excellent.\",\n          \"Your servers suck, wait, correction, our server Heimer sucked.\",\n          \"Will be back again!\"\n        ],\n        \"semantic_type\": \"\",\n        \"description\": \"\"\n      }\n    },\n    {\n      \"column\": \"Liked\",\n      \"properties\": {\n        \"dtype\": \"number\",\n        \"std\": 0,\n        \"min\": 0,\n        \"max\": 1,\n        \"num_unique_values\": 2,\n        \"samples\": [\n          0,\n          1\n        ],\n        \"semantic_type\": \"\",\n        \"description\": \"\"\n      }\n    }\n  ]\n}"
            }
          },
          "metadata": {},
          "execution_count": 60
        }
      ]
    },
    {
      "cell_type": "code",
      "source": [
        "data.tail()"
      ],
      "metadata": {
        "colab": {
          "base_uri": "https://localhost:8080/",
          "height": 204
        },
        "id": "uxLUo-GMYAls",
        "outputId": "c249cb59-41fc-4c67-bd90-f1db0be744f3"
      },
      "execution_count": 61,
      "outputs": [
        {
          "output_type": "execute_result",
          "data": {
            "text/plain": [
              "                                                Review  Liked\n",
              "995  I think food should have flavor and texture an...      0\n",
              "996                           Appetite instantly gone.      0\n",
              "997  Overall I was not impressed and would not go b...      0\n",
              "998  The whole experience was underwhelming, and I ...      0\n",
              "999  Then, as if I hadn't wasted enough of my life ...      0"
            ],
            "text/html": [
              "\n",
              "  <div id=\"df-a0c1dbb5-7f47-4080-ac76-d611ce310327\" class=\"colab-df-container\">\n",
              "    <div>\n",
              "<style scoped>\n",
              "    .dataframe tbody tr th:only-of-type {\n",
              "        vertical-align: middle;\n",
              "    }\n",
              "\n",
              "    .dataframe tbody tr th {\n",
              "        vertical-align: top;\n",
              "    }\n",
              "\n",
              "    .dataframe thead th {\n",
              "        text-align: right;\n",
              "    }\n",
              "</style>\n",
              "<table border=\"1\" class=\"dataframe\">\n",
              "  <thead>\n",
              "    <tr style=\"text-align: right;\">\n",
              "      <th></th>\n",
              "      <th>Review</th>\n",
              "      <th>Liked</th>\n",
              "    </tr>\n",
              "  </thead>\n",
              "  <tbody>\n",
              "    <tr>\n",
              "      <th>995</th>\n",
              "      <td>I think food should have flavor and texture an...</td>\n",
              "      <td>0</td>\n",
              "    </tr>\n",
              "    <tr>\n",
              "      <th>996</th>\n",
              "      <td>Appetite instantly gone.</td>\n",
              "      <td>0</td>\n",
              "    </tr>\n",
              "    <tr>\n",
              "      <th>997</th>\n",
              "      <td>Overall I was not impressed and would not go b...</td>\n",
              "      <td>0</td>\n",
              "    </tr>\n",
              "    <tr>\n",
              "      <th>998</th>\n",
              "      <td>The whole experience was underwhelming, and I ...</td>\n",
              "      <td>0</td>\n",
              "    </tr>\n",
              "    <tr>\n",
              "      <th>999</th>\n",
              "      <td>Then, as if I hadn't wasted enough of my life ...</td>\n",
              "      <td>0</td>\n",
              "    </tr>\n",
              "  </tbody>\n",
              "</table>\n",
              "</div>\n",
              "    <div class=\"colab-df-buttons\">\n",
              "\n",
              "  <div class=\"colab-df-container\">\n",
              "    <button class=\"colab-df-convert\" onclick=\"convertToInteractive('df-a0c1dbb5-7f47-4080-ac76-d611ce310327')\"\n",
              "            title=\"Convert this dataframe to an interactive table.\"\n",
              "            style=\"display:none;\">\n",
              "\n",
              "  <svg xmlns=\"http://www.w3.org/2000/svg\" height=\"24px\" viewBox=\"0 -960 960 960\">\n",
              "    <path d=\"M120-120v-720h720v720H120Zm60-500h600v-160H180v160Zm220 220h160v-160H400v160Zm0 220h160v-160H400v160ZM180-400h160v-160H180v160Zm440 0h160v-160H620v160ZM180-180h160v-160H180v160Zm440 0h160v-160H620v160Z\"/>\n",
              "  </svg>\n",
              "    </button>\n",
              "\n",
              "  <style>\n",
              "    .colab-df-container {\n",
              "      display:flex;\n",
              "      gap: 12px;\n",
              "    }\n",
              "\n",
              "    .colab-df-convert {\n",
              "      background-color: #E8F0FE;\n",
              "      border: none;\n",
              "      border-radius: 50%;\n",
              "      cursor: pointer;\n",
              "      display: none;\n",
              "      fill: #1967D2;\n",
              "      height: 32px;\n",
              "      padding: 0 0 0 0;\n",
              "      width: 32px;\n",
              "    }\n",
              "\n",
              "    .colab-df-convert:hover {\n",
              "      background-color: #E2EBFA;\n",
              "      box-shadow: 0px 1px 2px rgba(60, 64, 67, 0.3), 0px 1px 3px 1px rgba(60, 64, 67, 0.15);\n",
              "      fill: #174EA6;\n",
              "    }\n",
              "\n",
              "    .colab-df-buttons div {\n",
              "      margin-bottom: 4px;\n",
              "    }\n",
              "\n",
              "    [theme=dark] .colab-df-convert {\n",
              "      background-color: #3B4455;\n",
              "      fill: #D2E3FC;\n",
              "    }\n",
              "\n",
              "    [theme=dark] .colab-df-convert:hover {\n",
              "      background-color: #434B5C;\n",
              "      box-shadow: 0px 1px 3px 1px rgba(0, 0, 0, 0.15);\n",
              "      filter: drop-shadow(0px 1px 2px rgba(0, 0, 0, 0.3));\n",
              "      fill: #FFFFFF;\n",
              "    }\n",
              "  </style>\n",
              "\n",
              "    <script>\n",
              "      const buttonEl =\n",
              "        document.querySelector('#df-a0c1dbb5-7f47-4080-ac76-d611ce310327 button.colab-df-convert');\n",
              "      buttonEl.style.display =\n",
              "        google.colab.kernel.accessAllowed ? 'block' : 'none';\n",
              "\n",
              "      async function convertToInteractive(key) {\n",
              "        const element = document.querySelector('#df-a0c1dbb5-7f47-4080-ac76-d611ce310327');\n",
              "        const dataTable =\n",
              "          await google.colab.kernel.invokeFunction('convertToInteractive',\n",
              "                                                    [key], {});\n",
              "        if (!dataTable) return;\n",
              "\n",
              "        const docLinkHtml = 'Like what you see? Visit the ' +\n",
              "          '<a target=\"_blank\" href=https://colab.research.google.com/notebooks/data_table.ipynb>data table notebook</a>'\n",
              "          + ' to learn more about interactive tables.';\n",
              "        element.innerHTML = '';\n",
              "        dataTable['output_type'] = 'display_data';\n",
              "        await google.colab.output.renderOutput(dataTable, element);\n",
              "        const docLink = document.createElement('div');\n",
              "        docLink.innerHTML = docLinkHtml;\n",
              "        element.appendChild(docLink);\n",
              "      }\n",
              "    </script>\n",
              "  </div>\n",
              "\n",
              "\n",
              "<div id=\"df-04a92992-a066-48ad-b11f-ac3f6d821803\">\n",
              "  <button class=\"colab-df-quickchart\" onclick=\"quickchart('df-04a92992-a066-48ad-b11f-ac3f6d821803')\"\n",
              "            title=\"Suggest charts\"\n",
              "            style=\"display:none;\">\n",
              "\n",
              "<svg xmlns=\"http://www.w3.org/2000/svg\" height=\"24px\"viewBox=\"0 0 24 24\"\n",
              "     width=\"24px\">\n",
              "    <g>\n",
              "        <path d=\"M19 3H5c-1.1 0-2 .9-2 2v14c0 1.1.9 2 2 2h14c1.1 0 2-.9 2-2V5c0-1.1-.9-2-2-2zM9 17H7v-7h2v7zm4 0h-2V7h2v10zm4 0h-2v-4h2v4z\"/>\n",
              "    </g>\n",
              "</svg>\n",
              "  </button>\n",
              "\n",
              "<style>\n",
              "  .colab-df-quickchart {\n",
              "      --bg-color: #E8F0FE;\n",
              "      --fill-color: #1967D2;\n",
              "      --hover-bg-color: #E2EBFA;\n",
              "      --hover-fill-color: #174EA6;\n",
              "      --disabled-fill-color: #AAA;\n",
              "      --disabled-bg-color: #DDD;\n",
              "  }\n",
              "\n",
              "  [theme=dark] .colab-df-quickchart {\n",
              "      --bg-color: #3B4455;\n",
              "      --fill-color: #D2E3FC;\n",
              "      --hover-bg-color: #434B5C;\n",
              "      --hover-fill-color: #FFFFFF;\n",
              "      --disabled-bg-color: #3B4455;\n",
              "      --disabled-fill-color: #666;\n",
              "  }\n",
              "\n",
              "  .colab-df-quickchart {\n",
              "    background-color: var(--bg-color);\n",
              "    border: none;\n",
              "    border-radius: 50%;\n",
              "    cursor: pointer;\n",
              "    display: none;\n",
              "    fill: var(--fill-color);\n",
              "    height: 32px;\n",
              "    padding: 0;\n",
              "    width: 32px;\n",
              "  }\n",
              "\n",
              "  .colab-df-quickchart:hover {\n",
              "    background-color: var(--hover-bg-color);\n",
              "    box-shadow: 0 1px 2px rgba(60, 64, 67, 0.3), 0 1px 3px 1px rgba(60, 64, 67, 0.15);\n",
              "    fill: var(--button-hover-fill-color);\n",
              "  }\n",
              "\n",
              "  .colab-df-quickchart-complete:disabled,\n",
              "  .colab-df-quickchart-complete:disabled:hover {\n",
              "    background-color: var(--disabled-bg-color);\n",
              "    fill: var(--disabled-fill-color);\n",
              "    box-shadow: none;\n",
              "  }\n",
              "\n",
              "  .colab-df-spinner {\n",
              "    border: 2px solid var(--fill-color);\n",
              "    border-color: transparent;\n",
              "    border-bottom-color: var(--fill-color);\n",
              "    animation:\n",
              "      spin 1s steps(1) infinite;\n",
              "  }\n",
              "\n",
              "  @keyframes spin {\n",
              "    0% {\n",
              "      border-color: transparent;\n",
              "      border-bottom-color: var(--fill-color);\n",
              "      border-left-color: var(--fill-color);\n",
              "    }\n",
              "    20% {\n",
              "      border-color: transparent;\n",
              "      border-left-color: var(--fill-color);\n",
              "      border-top-color: var(--fill-color);\n",
              "    }\n",
              "    30% {\n",
              "      border-color: transparent;\n",
              "      border-left-color: var(--fill-color);\n",
              "      border-top-color: var(--fill-color);\n",
              "      border-right-color: var(--fill-color);\n",
              "    }\n",
              "    40% {\n",
              "      border-color: transparent;\n",
              "      border-right-color: var(--fill-color);\n",
              "      border-top-color: var(--fill-color);\n",
              "    }\n",
              "    60% {\n",
              "      border-color: transparent;\n",
              "      border-right-color: var(--fill-color);\n",
              "    }\n",
              "    80% {\n",
              "      border-color: transparent;\n",
              "      border-right-color: var(--fill-color);\n",
              "      border-bottom-color: var(--fill-color);\n",
              "    }\n",
              "    90% {\n",
              "      border-color: transparent;\n",
              "      border-bottom-color: var(--fill-color);\n",
              "    }\n",
              "  }\n",
              "</style>\n",
              "\n",
              "  <script>\n",
              "    async function quickchart(key) {\n",
              "      const quickchartButtonEl =\n",
              "        document.querySelector('#' + key + ' button');\n",
              "      quickchartButtonEl.disabled = true;  // To prevent multiple clicks.\n",
              "      quickchartButtonEl.classList.add('colab-df-spinner');\n",
              "      try {\n",
              "        const charts = await google.colab.kernel.invokeFunction(\n",
              "            'suggestCharts', [key], {});\n",
              "      } catch (error) {\n",
              "        console.error('Error during call to suggestCharts:', error);\n",
              "      }\n",
              "      quickchartButtonEl.classList.remove('colab-df-spinner');\n",
              "      quickchartButtonEl.classList.add('colab-df-quickchart-complete');\n",
              "    }\n",
              "    (() => {\n",
              "      let quickchartButtonEl =\n",
              "        document.querySelector('#df-04a92992-a066-48ad-b11f-ac3f6d821803 button');\n",
              "      quickchartButtonEl.style.display =\n",
              "        google.colab.kernel.accessAllowed ? 'block' : 'none';\n",
              "    })();\n",
              "  </script>\n",
              "</div>\n",
              "\n",
              "    </div>\n",
              "  </div>\n"
            ],
            "application/vnd.google.colaboratory.intrinsic+json": {
              "type": "dataframe",
              "summary": "{\n  \"name\": \"data\",\n  \"rows\": 5,\n  \"fields\": [\n    {\n      \"column\": \"Review\",\n      \"properties\": {\n        \"dtype\": \"string\",\n        \"num_unique_values\": 5,\n        \"samples\": [\n          \"Appetite instantly gone.\",\n          \"Then, as if I hadn't wasted enough of my life there, they poured salt in the wound by drawing out the time it took to bring the check.\",\n          \"Overall I was not impressed and would not go back.\"\n        ],\n        \"semantic_type\": \"\",\n        \"description\": \"\"\n      }\n    },\n    {\n      \"column\": \"Liked\",\n      \"properties\": {\n        \"dtype\": \"number\",\n        \"std\": 0,\n        \"min\": 0,\n        \"max\": 0,\n        \"num_unique_values\": 1,\n        \"samples\": [\n          0\n        ],\n        \"semantic_type\": \"\",\n        \"description\": \"\"\n      }\n    }\n  ]\n}"
            }
          },
          "metadata": {},
          "execution_count": 61
        }
      ]
    },
    {
      "cell_type": "code",
      "source": [
        "data['Liked'].value_counts()"
      ],
      "metadata": {
        "colab": {
          "base_uri": "https://localhost:8080/",
          "height": 176
        },
        "id": "JuddljpEYHwS",
        "outputId": "de9562e3-886a-4add-a1f7-1bdd83b202c3"
      },
      "execution_count": 64,
      "outputs": [
        {
          "output_type": "execute_result",
          "data": {
            "text/plain": [
              "Liked\n",
              "1    500\n",
              "0    500\n",
              "Name: count, dtype: int64"
            ],
            "text/html": [
              "<table border=\"1\" class=\"dataframe\">\n",
              "  <thead>\n",
              "    <tr style=\"text-align: right;\">\n",
              "      <th></th>\n",
              "      <th>count</th>\n",
              "    </tr>\n",
              "    <tr>\n",
              "      <th>Liked</th>\n",
              "      <th></th>\n",
              "    </tr>\n",
              "  </thead>\n",
              "  <tbody>\n",
              "    <tr>\n",
              "      <th>1</th>\n",
              "      <td>500</td>\n",
              "    </tr>\n",
              "    <tr>\n",
              "      <th>0</th>\n",
              "      <td>500</td>\n",
              "    </tr>\n",
              "  </tbody>\n",
              "</table><br><label><b>dtype:</b> int64</label>"
            ]
          },
          "metadata": {},
          "execution_count": 64
        }
      ]
    },
    {
      "cell_type": "code",
      "source": [
        "import nltk\n",
        "import re"
      ],
      "metadata": {
        "id": "nxv6UwbJYm_o"
      },
      "execution_count": 65,
      "outputs": []
    },
    {
      "cell_type": "code",
      "source": [
        "nltk.download(\"stopwords\")"
      ],
      "metadata": {
        "colab": {
          "base_uri": "https://localhost:8080/"
        },
        "id": "CkrxQnhNYtOD",
        "outputId": "46ad9056-373e-448b-d359-6d8f7e28738f"
      },
      "execution_count": 66,
      "outputs": [
        {
          "output_type": "stream",
          "name": "stderr",
          "text": [
            "[nltk_data] Downloading package stopwords to /root/nltk_data...\n",
            "[nltk_data]   Package stopwords is already up-to-date!\n"
          ]
        },
        {
          "output_type": "execute_result",
          "data": {
            "text/plain": [
              "True"
            ]
          },
          "metadata": {},
          "execution_count": 66
        }
      ]
    },
    {
      "cell_type": "code",
      "source": [
        "from nltk.corpus import stopwords"
      ],
      "metadata": {
        "id": "vPvvuJecY4nA"
      },
      "execution_count": 67,
      "outputs": []
    },
    {
      "cell_type": "code",
      "source": [
        "data['Review'][0]"
      ],
      "metadata": {
        "colab": {
          "base_uri": "https://localhost:8080/",
          "height": 35
        },
        "id": "hXoohRCCZDLm",
        "outputId": "c142bf8b-b6d5-4e19-b5fe-eb4da6f2d740"
      },
      "execution_count": 68,
      "outputs": [
        {
          "output_type": "execute_result",
          "data": {
            "text/plain": [
              "'Wow... Loved this place.'"
            ],
            "application/vnd.google.colaboratory.intrinsic+json": {
              "type": "string"
            }
          },
          "metadata": {},
          "execution_count": 68
        }
      ]
    },
    {
      "cell_type": "code",
      "source": [
        "review = re.sub('[^a-zA-Z]', ' ' , data['Review'][0])"
      ],
      "metadata": {
        "id": "-wmtqop6ZPMY"
      },
      "execution_count": 69,
      "outputs": []
    },
    {
      "cell_type": "code",
      "source": [
        "review"
      ],
      "metadata": {
        "colab": {
          "base_uri": "https://localhost:8080/",
          "height": 35
        },
        "id": "c0wytE4OZis4",
        "outputId": "60ba56ae-3997-40a4-c856-0cbd441b8f58"
      },
      "execution_count": 70,
      "outputs": [
        {
          "output_type": "execute_result",
          "data": {
            "text/plain": [
              "'Wow    Loved this place '"
            ],
            "application/vnd.google.colaboratory.intrinsic+json": {
              "type": "string"
            }
          },
          "metadata": {},
          "execution_count": 70
        }
      ]
    },
    {
      "cell_type": "code",
      "source": [
        "review = review.lower()"
      ],
      "metadata": {
        "id": "3PhMHsEbZmQQ"
      },
      "execution_count": 71,
      "outputs": []
    },
    {
      "cell_type": "code",
      "source": [
        "review"
      ],
      "metadata": {
        "colab": {
          "base_uri": "https://localhost:8080/",
          "height": 35
        },
        "id": "x4ctK_ZtZugH",
        "outputId": "82e7a93d-ad6c-4d79-e8fb-0cea9aeb03c2"
      },
      "execution_count": 72,
      "outputs": [
        {
          "output_type": "execute_result",
          "data": {
            "text/plain": [
              "'wow    loved this place '"
            ],
            "application/vnd.google.colaboratory.intrinsic+json": {
              "type": "string"
            }
          },
          "metadata": {},
          "execution_count": 72
        }
      ]
    },
    {
      "cell_type": "code",
      "source": [
        "review = review.split()"
      ],
      "metadata": {
        "id": "3kFZCzbgaPmS"
      },
      "execution_count": 73,
      "outputs": []
    },
    {
      "cell_type": "code",
      "source": [
        "review"
      ],
      "metadata": {
        "colab": {
          "base_uri": "https://localhost:8080/"
        },
        "id": "ijoAmg25aSn6",
        "outputId": "b5e75fff-c3ab-41a1-8652-8237c69b3910"
      },
      "execution_count": 74,
      "outputs": [
        {
          "output_type": "execute_result",
          "data": {
            "text/plain": [
              "['wow', 'loved', 'this', 'place']"
            ]
          },
          "metadata": {},
          "execution_count": 74
        }
      ]
    },
    {
      "cell_type": "code",
      "source": [
        "stopwords.words(\"english\")"
      ],
      "metadata": {
        "colab": {
          "base_uri": "https://localhost:8080/"
        },
        "collapsed": true,
        "id": "NtKgyF9laY39",
        "outputId": "fdbbc10b-ccaf-481c-bb1c-f23cebe2befe"
      },
      "execution_count": 75,
      "outputs": [
        {
          "output_type": "execute_result",
          "data": {
            "text/plain": [
              "['i',\n",
              " 'me',\n",
              " 'my',\n",
              " 'myself',\n",
              " 'we',\n",
              " 'our',\n",
              " 'ours',\n",
              " 'ourselves',\n",
              " 'you',\n",
              " \"you're\",\n",
              " \"you've\",\n",
              " \"you'll\",\n",
              " \"you'd\",\n",
              " 'your',\n",
              " 'yours',\n",
              " 'yourself',\n",
              " 'yourselves',\n",
              " 'he',\n",
              " 'him',\n",
              " 'his',\n",
              " 'himself',\n",
              " 'she',\n",
              " \"she's\",\n",
              " 'her',\n",
              " 'hers',\n",
              " 'herself',\n",
              " 'it',\n",
              " \"it's\",\n",
              " 'its',\n",
              " 'itself',\n",
              " 'they',\n",
              " 'them',\n",
              " 'their',\n",
              " 'theirs',\n",
              " 'themselves',\n",
              " 'what',\n",
              " 'which',\n",
              " 'who',\n",
              " 'whom',\n",
              " 'this',\n",
              " 'that',\n",
              " \"that'll\",\n",
              " 'these',\n",
              " 'those',\n",
              " 'am',\n",
              " 'is',\n",
              " 'are',\n",
              " 'was',\n",
              " 'were',\n",
              " 'be',\n",
              " 'been',\n",
              " 'being',\n",
              " 'have',\n",
              " 'has',\n",
              " 'had',\n",
              " 'having',\n",
              " 'do',\n",
              " 'does',\n",
              " 'did',\n",
              " 'doing',\n",
              " 'a',\n",
              " 'an',\n",
              " 'the',\n",
              " 'and',\n",
              " 'but',\n",
              " 'if',\n",
              " 'or',\n",
              " 'because',\n",
              " 'as',\n",
              " 'until',\n",
              " 'while',\n",
              " 'of',\n",
              " 'at',\n",
              " 'by',\n",
              " 'for',\n",
              " 'with',\n",
              " 'about',\n",
              " 'against',\n",
              " 'between',\n",
              " 'into',\n",
              " 'through',\n",
              " 'during',\n",
              " 'before',\n",
              " 'after',\n",
              " 'above',\n",
              " 'below',\n",
              " 'to',\n",
              " 'from',\n",
              " 'up',\n",
              " 'down',\n",
              " 'in',\n",
              " 'out',\n",
              " 'on',\n",
              " 'off',\n",
              " 'over',\n",
              " 'under',\n",
              " 'again',\n",
              " 'further',\n",
              " 'then',\n",
              " 'once',\n",
              " 'here',\n",
              " 'there',\n",
              " 'when',\n",
              " 'where',\n",
              " 'why',\n",
              " 'how',\n",
              " 'all',\n",
              " 'any',\n",
              " 'both',\n",
              " 'each',\n",
              " 'few',\n",
              " 'more',\n",
              " 'most',\n",
              " 'other',\n",
              " 'some',\n",
              " 'such',\n",
              " 'no',\n",
              " 'nor',\n",
              " 'not',\n",
              " 'only',\n",
              " 'own',\n",
              " 'same',\n",
              " 'so',\n",
              " 'than',\n",
              " 'too',\n",
              " 'very',\n",
              " 's',\n",
              " 't',\n",
              " 'can',\n",
              " 'will',\n",
              " 'just',\n",
              " 'don',\n",
              " \"don't\",\n",
              " 'should',\n",
              " \"should've\",\n",
              " 'now',\n",
              " 'd',\n",
              " 'll',\n",
              " 'm',\n",
              " 'o',\n",
              " 're',\n",
              " 've',\n",
              " 'y',\n",
              " 'ain',\n",
              " 'aren',\n",
              " \"aren't\",\n",
              " 'couldn',\n",
              " \"couldn't\",\n",
              " 'didn',\n",
              " \"didn't\",\n",
              " 'doesn',\n",
              " \"doesn't\",\n",
              " 'hadn',\n",
              " \"hadn't\",\n",
              " 'hasn',\n",
              " \"hasn't\",\n",
              " 'haven',\n",
              " \"haven't\",\n",
              " 'isn',\n",
              " \"isn't\",\n",
              " 'ma',\n",
              " 'mightn',\n",
              " \"mightn't\",\n",
              " 'mustn',\n",
              " \"mustn't\",\n",
              " 'needn',\n",
              " \"needn't\",\n",
              " 'shan',\n",
              " \"shan't\",\n",
              " 'shouldn',\n",
              " \"shouldn't\",\n",
              " 'wasn',\n",
              " \"wasn't\",\n",
              " 'weren',\n",
              " \"weren't\",\n",
              " 'won',\n",
              " \"won't\",\n",
              " 'wouldn',\n",
              " \"wouldn't\"]"
            ]
          },
          "metadata": {},
          "execution_count": 75
        }
      ]
    },
    {
      "cell_type": "code",
      "source": [
        "preview =[]\n",
        "for word in review :\n",
        "  if word not in stopwords.words(\"english\"):\n",
        "    preview.append(word)"
      ],
      "metadata": {
        "id": "W2w3eydFaoCY"
      },
      "execution_count": 76,
      "outputs": []
    },
    {
      "cell_type": "code",
      "source": [
        "preview"
      ],
      "metadata": {
        "colab": {
          "base_uri": "https://localhost:8080/"
        },
        "id": "6_xg4pNfbHeq",
        "outputId": "237f606e-cf9f-4a95-b4a2-1144421b4e60"
      },
      "execution_count": 77,
      "outputs": [
        {
          "output_type": "execute_result",
          "data": {
            "text/plain": [
              "['wow', 'loved', 'place']"
            ]
          },
          "metadata": {},
          "execution_count": 77
        }
      ]
    },
    {
      "cell_type": "code",
      "source": [
        "review = [word for word in review if word not in stopwords.words(\"english\")]"
      ],
      "metadata": {
        "id": "mM5vuRI-bLv1"
      },
      "execution_count": 78,
      "outputs": []
    },
    {
      "cell_type": "code",
      "source": [
        "review"
      ],
      "metadata": {
        "colab": {
          "base_uri": "https://localhost:8080/"
        },
        "id": "mD6dSGM1bUnD",
        "outputId": "31beb482-d0d0-4762-810a-e455dee8adaa"
      },
      "execution_count": 79,
      "outputs": [
        {
          "output_type": "execute_result",
          "data": {
            "text/plain": [
              "['wow', 'loved', 'place']"
            ]
          },
          "metadata": {},
          "execution_count": 79
        }
      ]
    },
    {
      "cell_type": "code",
      "source": [
        "from nltk.stem.porter import PorterStemmer\n",
        "ps = PorterStemmer()"
      ],
      "metadata": {
        "id": "FlYgaVDubchD"
      },
      "execution_count": 80,
      "outputs": []
    },
    {
      "cell_type": "code",
      "source": [
        "review = [ps.stem(word) for word in review ]\n",
        "review"
      ],
      "metadata": {
        "colab": {
          "base_uri": "https://localhost:8080/"
        },
        "id": "oKFbqRw_bpkA",
        "outputId": "058b5993-8e0c-4d41-d11f-0d94627434e2"
      },
      "execution_count": 81,
      "outputs": [
        {
          "output_type": "execute_result",
          "data": {
            "text/plain": [
              "['wow', 'love', 'place']"
            ]
          },
          "metadata": {},
          "execution_count": 81
        }
      ]
    },
    {
      "cell_type": "code",
      "source": [
        "review = \" \".join(review)\n",
        "print(review)"
      ],
      "metadata": {
        "colab": {
          "base_uri": "https://localhost:8080/"
        },
        "id": "dbbaMjC7bz5O",
        "outputId": "70cb9781-9ff4-4bba-82fb-b8d2967cdb1b"
      },
      "execution_count": 86,
      "outputs": [
        {
          "output_type": "stream",
          "name": "stdout",
          "text": [
            "w o w   l o v e   p l a c e\n"
          ]
        }
      ]
    },
    {
      "cell_type": "code",
      "source": [
        "corpus =[]\n",
        "for i in range(len(data)):\n",
        "  review =re.sub('[^a-zA-Z]', ' ' , data['Review'][0])\n",
        "  review = review.lower()\n",
        "  review = review.split()\n",
        "  review = [ps.stem(word) for word in review if word not in stopwords.words(\"english\")]\n",
        "  review = \" \".join(review)\n",
        "  corpus.append(review)\n"
      ],
      "metadata": {
        "id": "q-IzEk5ocN7v"
      },
      "execution_count": 87,
      "outputs": []
    },
    {
      "cell_type": "code",
      "source": [
        "print(corpus)"
      ],
      "metadata": {
        "colab": {
          "base_uri": "https://localhost:8080/"
        },
        "id": "osz1syMVdaAt",
        "outputId": "d2a1afe0-fd86-4f89-a95b-8435cac7622d"
      },
      "execution_count": 88,
      "outputs": [
        {
          "output_type": "stream",
          "name": "stdout",
          "text": [
            "['wow love place', 'wow love place', 'wow love place', 'wow love place', 'wow love place', 'wow love place', 'wow love place', 'wow love place', 'wow love place', 'wow love place', 'wow love place', 'wow love place', 'wow love place', 'wow love place', 'wow love place', 'wow love place', 'wow love place', 'wow love place', 'wow love place', 'wow love place', 'wow love place', 'wow love place', 'wow love place', 'wow love place', 'wow love place', 'wow love place', 'wow love place', 'wow love place', 'wow love place', 'wow love place', 'wow love place', 'wow love place', 'wow love place', 'wow love place', 'wow love place', 'wow love place', 'wow love place', 'wow love place', 'wow love place', 'wow love place', 'wow love place', 'wow love place', 'wow love place', 'wow love place', 'wow love place', 'wow love place', 'wow love place', 'wow love place', 'wow love place', 'wow love place', 'wow love place', 'wow love place', 'wow love place', 'wow love place', 'wow love place', 'wow love place', 'wow love place', 'wow love place', 'wow love place', 'wow love place', 'wow love place', 'wow love place', 'wow love place', 'wow love place', 'wow love place', 'wow love place', 'wow love place', 'wow love place', 'wow love place', 'wow love place', 'wow love place', 'wow love place', 'wow love place', 'wow love place', 'wow love place', 'wow love place', 'wow love place', 'wow love place', 'wow love place', 'wow love place', 'wow love place', 'wow love place', 'wow love place', 'wow love place', 'wow love place', 'wow love place', 'wow love place', 'wow love place', 'wow love place', 'wow love place', 'wow love place', 'wow love place', 'wow love place', 'wow love place', 'wow love place', 'wow love place', 'wow love place', 'wow love place', 'wow love place', 'wow love place', 'wow love place', 'wow love place', 'wow love place', 'wow love place', 'wow love place', 'wow love place', 'wow love place', 'wow love place', 'wow love place', 'wow love place', 'wow love place', 'wow love place', 'wow love place', 'wow love place', 'wow love place', 'wow love place', 'wow love place', 'wow love place', 'wow love place', 'wow love place', 'wow love place', 'wow love place', 'wow love place', 'wow love place', 'wow love place', 'wow love place', 'wow love place', 'wow love place', 'wow love place', 'wow love place', 'wow love place', 'wow love place', 'wow love place', 'wow love place', 'wow love place', 'wow love place', 'wow love place', 'wow love place', 'wow love place', 'wow love place', 'wow love place', 'wow love place', 'wow love place', 'wow love place', 'wow love place', 'wow love place', 'wow love place', 'wow love place', 'wow love place', 'wow love place', 'wow love place', 'wow love place', 'wow love place', 'wow love place', 'wow love place', 'wow love place', 'wow love place', 'wow love place', 'wow love place', 'wow love place', 'wow love place', 'wow love place', 'wow love place', 'wow love place', 'wow love place', 'wow love place', 'wow love place', 'wow love place', 'wow love place', 'wow love place', 'wow love place', 'wow love place', 'wow love place', 'wow love place', 'wow love place', 'wow love place', 'wow love place', 'wow love place', 'wow love place', 'wow love place', 'wow love place', 'wow love place', 'wow love place', 'wow love place', 'wow love place', 'wow love place', 'wow love place', 'wow love place', 'wow love place', 'wow love place', 'wow love place', 'wow love place', 'wow love place', 'wow love place', 'wow love place', 'wow love place', 'wow love place', 'wow love place', 'wow love place', 'wow love place', 'wow love place', 'wow love place', 'wow love place', 'wow love place', 'wow love place', 'wow love place', 'wow love place', 'wow love place', 'wow love place', 'wow love place', 'wow love place', 'wow love place', 'wow love place', 'wow love place', 'wow love place', 'wow love place', 'wow love place', 'wow love place', 'wow love place', 'wow love place', 'wow love place', 'wow love place', 'wow love place', 'wow love place', 'wow love place', 'wow love place', 'wow love place', 'wow love place', 'wow love place', 'wow love place', 'wow love place', 'wow love place', 'wow love place', 'wow love place', 'wow love place', 'wow love place', 'wow love place', 'wow love place', 'wow love place', 'wow love place', 'wow love place', 'wow love place', 'wow love place', 'wow love place', 'wow love place', 'wow love place', 'wow love place', 'wow love place', 'wow love place', 'wow love place', 'wow love place', 'wow love place', 'wow love place', 'wow love place', 'wow love place', 'wow love place', 'wow love place', 'wow love place', 'wow love place', 'wow love place', 'wow love place', 'wow love place', 'wow love place', 'wow love place', 'wow love place', 'wow love place', 'wow love place', 'wow love place', 'wow love place', 'wow love place', 'wow love place', 'wow love place', 'wow love place', 'wow love place', 'wow love place', 'wow love place', 'wow love place', 'wow love place', 'wow love place', 'wow love place', 'wow love place', 'wow love place', 'wow love place', 'wow love place', 'wow love place', 'wow love place', 'wow love place', 'wow love place', 'wow love place', 'wow love place', 'wow love place', 'wow love place', 'wow love place', 'wow love place', 'wow love place', 'wow love place', 'wow love place', 'wow love place', 'wow love place', 'wow love place', 'wow love place', 'wow love place', 'wow love place', 'wow love place', 'wow love place', 'wow love place', 'wow love place', 'wow love place', 'wow love place', 'wow love place', 'wow love place', 'wow love place', 'wow love place', 'wow love place', 'wow love place', 'wow love place', 'wow love place', 'wow love place', 'wow love place', 'wow love place', 'wow love place', 'wow love place', 'wow love place', 'wow love place', 'wow love place', 'wow love place', 'wow love place', 'wow love place', 'wow love place', 'wow love place', 'wow love place', 'wow love place', 'wow love place', 'wow love place', 'wow love place', 'wow love place', 'wow love place', 'wow love place', 'wow love place', 'wow love place', 'wow love place', 'wow love place', 'wow love place', 'wow love place', 'wow love place', 'wow love place', 'wow love place', 'wow love place', 'wow love place', 'wow love place', 'wow love place', 'wow love place', 'wow love place', 'wow love place', 'wow love place', 'wow love place', 'wow love place', 'wow love place', 'wow love place', 'wow love place', 'wow love place', 'wow love place', 'wow love place', 'wow love place', 'wow love place', 'wow love place', 'wow love place', 'wow love place', 'wow love place', 'wow love place', 'wow love place', 'wow love place', 'wow love place', 'wow love place', 'wow love place', 'wow love place', 'wow love place', 'wow love place', 'wow love place', 'wow love place', 'wow love place', 'wow love place', 'wow love place', 'wow love place', 'wow love place', 'wow love place', 'wow love place', 'wow love place', 'wow love place', 'wow love place', 'wow love place', 'wow love place', 'wow love place', 'wow love place', 'wow love place', 'wow love place', 'wow love place', 'wow love place', 'wow love place', 'wow love place', 'wow love place', 'wow love place', 'wow love place', 'wow love place', 'wow love place', 'wow love place', 'wow love place', 'wow love place', 'wow love place', 'wow love place', 'wow love place', 'wow love place', 'wow love place', 'wow love place', 'wow love place', 'wow love place', 'wow love place', 'wow love place', 'wow love place', 'wow love place', 'wow love place', 'wow love place', 'wow love place', 'wow love place', 'wow love place', 'wow love place', 'wow love place', 'wow love place', 'wow love place', 'wow love place', 'wow love place', 'wow love place', 'wow love place', 'wow love place', 'wow love place', 'wow love place', 'wow love place', 'wow love place', 'wow love place', 'wow love place', 'wow love place', 'wow love place', 'wow love place', 'wow love place', 'wow love place', 'wow love place', 'wow love place', 'wow love place', 'wow love place', 'wow love place', 'wow love place', 'wow love place', 'wow love place', 'wow love place', 'wow love place', 'wow love place', 'wow love place', 'wow love place', 'wow love place', 'wow love place', 'wow love place', 'wow love place', 'wow love place', 'wow love place', 'wow love place', 'wow love place', 'wow love place', 'wow love place', 'wow love place', 'wow love place', 'wow love place', 'wow love place', 'wow love place', 'wow love place', 'wow love place', 'wow love place', 'wow love place', 'wow love place', 'wow love place', 'wow love place', 'wow love place', 'wow love place', 'wow love place', 'wow love place', 'wow love place', 'wow love place', 'wow love place', 'wow love place', 'wow love place', 'wow love place', 'wow love place', 'wow love place', 'wow love place', 'wow love place', 'wow love place', 'wow love place', 'wow love place', 'wow love place', 'wow love place', 'wow love place', 'wow love place', 'wow love place', 'wow love place', 'wow love place', 'wow love place', 'wow love place', 'wow love place', 'wow love place', 'wow love place', 'wow love place', 'wow love place', 'wow love place', 'wow love place', 'wow love place', 'wow love place', 'wow love place', 'wow love place', 'wow love place', 'wow love place', 'wow love place', 'wow love place', 'wow love place', 'wow love place', 'wow love place', 'wow love place', 'wow love place', 'wow love place', 'wow love place', 'wow love place', 'wow love place', 'wow love place', 'wow love place', 'wow love place', 'wow love place', 'wow love place', 'wow love place', 'wow love place', 'wow love place', 'wow love place', 'wow love place', 'wow love place', 'wow love place', 'wow love place', 'wow love place', 'wow love place', 'wow love place', 'wow love place', 'wow love place', 'wow love place', 'wow love place', 'wow love place', 'wow love place', 'wow love place', 'wow love place', 'wow love place', 'wow love place', 'wow love place', 'wow love place', 'wow love place', 'wow love place', 'wow love place', 'wow love place', 'wow love place', 'wow love place', 'wow love place', 'wow love place', 'wow love place', 'wow love place', 'wow love place', 'wow love place', 'wow love place', 'wow love place', 'wow love place', 'wow love place', 'wow love place', 'wow love place', 'wow love place', 'wow love place', 'wow love place', 'wow love place', 'wow love place', 'wow love place', 'wow love place', 'wow love place', 'wow love place', 'wow love place', 'wow love place', 'wow love place', 'wow love place', 'wow love place', 'wow love place', 'wow love place', 'wow love place', 'wow love place', 'wow love place', 'wow love place', 'wow love place', 'wow love place', 'wow love place', 'wow love place', 'wow love place', 'wow love place', 'wow love place', 'wow love place', 'wow love place', 'wow love place', 'wow love place', 'wow love place', 'wow love place', 'wow love place', 'wow love place', 'wow love place', 'wow love place', 'wow love place', 'wow love place', 'wow love place', 'wow love place', 'wow love place', 'wow love place', 'wow love place', 'wow love place', 'wow love place', 'wow love place', 'wow love place', 'wow love place', 'wow love place', 'wow love place', 'wow love place', 'wow love place', 'wow love place', 'wow love place', 'wow love place', 'wow love place', 'wow love place', 'wow love place', 'wow love place', 'wow love place', 'wow love place', 'wow love place', 'wow love place', 'wow love place', 'wow love place', 'wow love place', 'wow love place', 'wow love place', 'wow love place', 'wow love place', 'wow love place', 'wow love place', 'wow love place', 'wow love place', 'wow love place', 'wow love place', 'wow love place', 'wow love place', 'wow love place', 'wow love place', 'wow love place', 'wow love place', 'wow love place', 'wow love place', 'wow love place', 'wow love place', 'wow love place', 'wow love place', 'wow love place', 'wow love place', 'wow love place', 'wow love place', 'wow love place', 'wow love place', 'wow love place', 'wow love place', 'wow love place', 'wow love place', 'wow love place', 'wow love place', 'wow love place', 'wow love place', 'wow love place', 'wow love place', 'wow love place', 'wow love place', 'wow love place', 'wow love place', 'wow love place', 'wow love place', 'wow love place', 'wow love place', 'wow love place', 'wow love place', 'wow love place', 'wow love place', 'wow love place', 'wow love place', 'wow love place', 'wow love place', 'wow love place', 'wow love place', 'wow love place', 'wow love place', 'wow love place', 'wow love place', 'wow love place', 'wow love place', 'wow love place', 'wow love place', 'wow love place', 'wow love place', 'wow love place', 'wow love place', 'wow love place', 'wow love place', 'wow love place', 'wow love place', 'wow love place', 'wow love place', 'wow love place', 'wow love place', 'wow love place', 'wow love place', 'wow love place', 'wow love place', 'wow love place', 'wow love place', 'wow love place', 'wow love place', 'wow love place', 'wow love place', 'wow love place', 'wow love place', 'wow love place', 'wow love place', 'wow love place', 'wow love place', 'wow love place', 'wow love place', 'wow love place', 'wow love place', 'wow love place', 'wow love place', 'wow love place', 'wow love place', 'wow love place', 'wow love place', 'wow love place', 'wow love place', 'wow love place', 'wow love place', 'wow love place', 'wow love place', 'wow love place', 'wow love place', 'wow love place', 'wow love place', 'wow love place', 'wow love place', 'wow love place', 'wow love place', 'wow love place', 'wow love place', 'wow love place', 'wow love place', 'wow love place', 'wow love place', 'wow love place', 'wow love place', 'wow love place', 'wow love place', 'wow love place', 'wow love place', 'wow love place', 'wow love place', 'wow love place', 'wow love place', 'wow love place', 'wow love place', 'wow love place', 'wow love place', 'wow love place', 'wow love place', 'wow love place', 'wow love place', 'wow love place', 'wow love place', 'wow love place', 'wow love place', 'wow love place', 'wow love place', 'wow love place', 'wow love place', 'wow love place', 'wow love place', 'wow love place', 'wow love place', 'wow love place', 'wow love place', 'wow love place', 'wow love place', 'wow love place', 'wow love place', 'wow love place', 'wow love place', 'wow love place', 'wow love place', 'wow love place', 'wow love place', 'wow love place', 'wow love place', 'wow love place', 'wow love place', 'wow love place', 'wow love place', 'wow love place', 'wow love place', 'wow love place', 'wow love place', 'wow love place', 'wow love place', 'wow love place', 'wow love place', 'wow love place', 'wow love place', 'wow love place', 'wow love place', 'wow love place', 'wow love place', 'wow love place', 'wow love place', 'wow love place', 'wow love place', 'wow love place', 'wow love place', 'wow love place', 'wow love place', 'wow love place', 'wow love place', 'wow love place', 'wow love place', 'wow love place', 'wow love place', 'wow love place', 'wow love place', 'wow love place', 'wow love place', 'wow love place', 'wow love place', 'wow love place', 'wow love place', 'wow love place', 'wow love place', 'wow love place', 'wow love place', 'wow love place', 'wow love place', 'wow love place', 'wow love place', 'wow love place', 'wow love place', 'wow love place', 'wow love place', 'wow love place', 'wow love place', 'wow love place', 'wow love place', 'wow love place', 'wow love place', 'wow love place', 'wow love place', 'wow love place', 'wow love place', 'wow love place', 'wow love place', 'wow love place', 'wow love place', 'wow love place', 'wow love place', 'wow love place', 'wow love place', 'wow love place', 'wow love place', 'wow love place', 'wow love place', 'wow love place', 'wow love place', 'wow love place', 'wow love place', 'wow love place', 'wow love place', 'wow love place', 'wow love place', 'wow love place', 'wow love place', 'wow love place', 'wow love place', 'wow love place', 'wow love place', 'wow love place', 'wow love place', 'wow love place', 'wow love place', 'wow love place', 'wow love place', 'wow love place', 'wow love place', 'wow love place', 'wow love place', 'wow love place', 'wow love place', 'wow love place', 'wow love place', 'wow love place', 'wow love place', 'wow love place', 'wow love place', 'wow love place', 'wow love place', 'wow love place', 'wow love place', 'wow love place', 'wow love place', 'wow love place', 'wow love place', 'wow love place', 'wow love place', 'wow love place', 'wow love place', 'wow love place', 'wow love place', 'wow love place', 'wow love place', 'wow love place', 'wow love place', 'wow love place', 'wow love place', 'wow love place', 'wow love place', 'wow love place', 'wow love place', 'wow love place', 'wow love place', 'wow love place', 'wow love place', 'wow love place', 'wow love place', 'wow love place', 'wow love place', 'wow love place', 'wow love place', 'wow love place', 'wow love place', 'wow love place', 'wow love place', 'wow love place', 'wow love place', 'wow love place', 'wow love place', 'wow love place', 'wow love place', 'wow love place', 'wow love place', 'wow love place', 'wow love place', 'wow love place', 'wow love place', 'wow love place', 'wow love place', 'wow love place', 'wow love place', 'wow love place', 'wow love place', 'wow love place', 'wow love place', 'wow love place', 'wow love place', 'wow love place', 'wow love place', 'wow love place', 'wow love place', 'wow love place', 'wow love place', 'wow love place', 'wow love place', 'wow love place', 'wow love place', 'wow love place', 'wow love place', 'wow love place', 'wow love place', 'wow love place', 'wow love place', 'wow love place', 'wow love place', 'wow love place', 'wow love place', 'wow love place', 'wow love place', 'wow love place', 'wow love place', 'wow love place']\n"
          ]
        }
      ]
    },
    {
      "cell_type": "markdown",
      "source": [
        "**BAGS OF WORDS**"
      ],
      "metadata": {
        "id": "35gSDzfCdtad"
      }
    },
    {
      "cell_type": "code",
      "source": [
        "  from sklearn.feature_extraction.text import CountVectorizer"
      ],
      "metadata": {
        "id": "3kAgwiYddwD_"
      },
      "execution_count": 89,
      "outputs": []
    },
    {
      "cell_type": "code",
      "source": [
        "cv = CountVectorizer(max_features = 1500)"
      ],
      "metadata": {
        "id": "TLCkX3xieByJ"
      },
      "execution_count": 91,
      "outputs": []
    },
    {
      "cell_type": "code",
      "source": [
        "cv.fit_transform(corpus).toarray"
      ],
      "metadata": {
        "colab": {
          "base_uri": "https://localhost:8080/",
          "height": 186
        },
        "id": "DgDFLs4XePjs",
        "outputId": "3600c3bf-6bb1-4a1c-f48f-e29cf9a1d0f6"
      },
      "execution_count": 93,
      "outputs": [
        {
          "output_type": "execute_result",
          "data": {
            "text/plain": [
              "<bound method _cs_matrix.toarray of <1000x3 sparse matrix of type '<class 'numpy.int64'>'\n",
              "\twith 3000 stored elements in Compressed Sparse Row format>>"
            ],
            "text/html": [
              "<div style=\"max-width:800px; border: 1px solid var(--colab-border-color);\"><style>\n",
              "      pre.function-repr-contents {\n",
              "        overflow-x: auto;\n",
              "        padding: 8px 12px;\n",
              "        max-height: 500px;\n",
              "      }\n",
              "\n",
              "      pre.function-repr-contents.function-repr-contents-collapsed {\n",
              "        cursor: pointer;\n",
              "        max-height: 100px;\n",
              "      }\n",
              "    </style>\n",
              "    <pre style=\"white-space: initial; background:\n",
              "         var(--colab-secondary-surface-color); padding: 8px 12px;\n",
              "         border-bottom: 1px solid var(--colab-border-color);\"><b>scipy.sparse._compressed._cs_matrix.toarray</b><br/>def toarray(order=None, out=None)</pre><pre class=\"function-repr-contents function-repr-contents-collapsed\" style=\"\"><a class=\"filepath\" style=\"display:none\" href=\"#\">/usr/local/lib/python3.10/dist-packages/scipy/sparse/_compressed.py</a>Return a dense ndarray representation of this sparse array/matrix.\n",
              "\n",
              "Parameters\n",
              "----------\n",
              "order : {&#x27;C&#x27;, &#x27;F&#x27;}, optional\n",
              "    Whether to store multidimensional data in C (row-major)\n",
              "    or Fortran (column-major) order in memory. The default\n",
              "    is &#x27;None&#x27;, which provides no ordering guarantees.\n",
              "    Cannot be specified in conjunction with the `out`\n",
              "    argument.\n",
              "\n",
              "out : ndarray, 2-D, optional\n",
              "    If specified, uses this array as the output buffer\n",
              "    instead of allocating a new array to return. The provided\n",
              "    array must have the same shape and dtype as the sparse\n",
              "    array/matrix on which you are calling the method. For most\n",
              "    sparse types, `out` is required to be memory contiguous\n",
              "    (either C or Fortran ordered).\n",
              "\n",
              "Returns\n",
              "-------\n",
              "arr : ndarray, 2-D\n",
              "    An array with the same shape and containing the same\n",
              "    data represented by the sparse array/matrix, with the requested\n",
              "    memory order. If `out` was passed, the same object is\n",
              "    returned after being modified in-place to contain the\n",
              "    appropriate values.</pre>\n",
              "      <script>\n",
              "      if (google.colab.kernel.accessAllowed && google.colab.files && google.colab.files.view) {\n",
              "        for (const element of document.querySelectorAll('.filepath')) {\n",
              "          element.style.display = 'block'\n",
              "          element.onclick = (event) => {\n",
              "            event.preventDefault();\n",
              "            event.stopPropagation();\n",
              "            google.colab.files.view(element.textContent, 1103);\n",
              "          };\n",
              "        }\n",
              "      }\n",
              "      for (const element of document.querySelectorAll('.function-repr-contents')) {\n",
              "        element.onclick = (event) => {\n",
              "          event.preventDefault();\n",
              "          event.stopPropagation();\n",
              "          element.classList.toggle('function-repr-contents-collapsed');\n",
              "        };\n",
              "      }\n",
              "      </script>\n",
              "      </div>"
            ]
          },
          "metadata": {},
          "execution_count": 93
        }
      ]
    },
    {
      "cell_type": "code",
      "source": [
        "x.shape"
      ],
      "metadata": {
        "colab": {
          "base_uri": "https://localhost:8080/"
        },
        "id": "njY7urSheni4",
        "outputId": "b9108c55-9593-401f-cf3c-10952637a5bd"
      },
      "execution_count": 94,
      "outputs": [
        {
          "output_type": "execute_result",
          "data": {
            "text/plain": [
              "(1000, 1500)"
            ]
          },
          "metadata": {},
          "execution_count": 94
        }
      ]
    },
    {
      "cell_type": "code",
      "source": [
        "y = data.iloc[:, 1].values"
      ],
      "metadata": {
        "id": "InAg7b4Met_J"
      },
      "execution_count": 100,
      "outputs": []
    },
    {
      "cell_type": "code",
      "source": [
        "y.shape"
      ],
      "metadata": {
        "colab": {
          "base_uri": "https://localhost:8080/"
        },
        "id": "v51CwtdEe0tp",
        "outputId": "9cbe4a49-215f-40c4-802d-efdc2dbaee3f"
      },
      "execution_count": 101,
      "outputs": [
        {
          "output_type": "execute_result",
          "data": {
            "text/plain": [
              "(1000,)"
            ]
          },
          "metadata": {},
          "execution_count": 101
        }
      ]
    },
    {
      "cell_type": "code",
      "source": [
        "y[:10]"
      ],
      "metadata": {
        "colab": {
          "base_uri": "https://localhost:8080/"
        },
        "id": "pjpwz61Fe5PN",
        "outputId": "85f16c55-b784-44c9-c3c6-f85b4ad34220"
      },
      "execution_count": 102,
      "outputs": [
        {
          "output_type": "execute_result",
          "data": {
            "text/plain": [
              "array([1, 0, 0, 1, 1, 0, 0, 0, 1, 1])"
            ]
          },
          "metadata": {},
          "execution_count": 102
        }
      ]
    },
    {
      "cell_type": "code",
      "source": [
        "from sklearn.model_selection import train_test_split\n",
        "\n",
        "x_train, x_test, y_train, y_test = train_test_split(x, y, test_size=0.20, random_state=0)"
      ],
      "metadata": {
        "id": "XMFTSM7lfPJW"
      },
      "execution_count": 103,
      "outputs": []
    },
    {
      "cell_type": "code",
      "source": [
        "x_train.shape , x_test.shape"
      ],
      "metadata": {
        "colab": {
          "base_uri": "https://localhost:8080/"
        },
        "id": "OQvXasgCfVSl",
        "outputId": "2c7d810a-f5a5-4a8a-dbd1-6c9fda010128"
      },
      "execution_count": 104,
      "outputs": [
        {
          "output_type": "execute_result",
          "data": {
            "text/plain": [
              "((800, 1500), (200, 1500))"
            ]
          },
          "metadata": {},
          "execution_count": 104
        }
      ]
    },
    {
      "cell_type": "code",
      "source": [
        "y_train.shape , y_test.shape"
      ],
      "metadata": {
        "colab": {
          "base_uri": "https://localhost:8080/"
        },
        "id": "-5JX1uOEgFEh",
        "outputId": "28582411-68c2-4778-a8f1-e725cf91f52d"
      },
      "execution_count": 105,
      "outputs": [
        {
          "output_type": "execute_result",
          "data": {
            "text/plain": [
              "((800,), (200,))"
            ]
          },
          "metadata": {},
          "execution_count": 105
        }
      ]
    },
    {
      "cell_type": "code",
      "source": [
        "from sklearn.naive_bayes import GaussianNB"
      ],
      "metadata": {
        "id": "yHjOeYPWhGf_"
      },
      "execution_count": 107,
      "outputs": []
    },
    {
      "cell_type": "code",
      "source": [
        "classifier =GaussianNB()"
      ],
      "metadata": {
        "id": "EzzqXwD8hW6j"
      },
      "execution_count": 108,
      "outputs": []
    },
    {
      "cell_type": "code",
      "source": [
        "classifier.fit(x_train, y_train)"
      ],
      "metadata": {
        "colab": {
          "base_uri": "https://localhost:8080/",
          "height": 74
        },
        "id": "KVk62FRUhemP",
        "outputId": "3cc4f028-7d96-4fdd-b3a2-9592930e35d2"
      },
      "execution_count": 109,
      "outputs": [
        {
          "output_type": "execute_result",
          "data": {
            "text/plain": [
              "GaussianNB()"
            ],
            "text/html": [
              "<style>#sk-container-id-1 {color: black;}#sk-container-id-1 pre{padding: 0;}#sk-container-id-1 div.sk-toggleable {background-color: white;}#sk-container-id-1 label.sk-toggleable__label {cursor: pointer;display: block;width: 100%;margin-bottom: 0;padding: 0.3em;box-sizing: border-box;text-align: center;}#sk-container-id-1 label.sk-toggleable__label-arrow:before {content: \"▸\";float: left;margin-right: 0.25em;color: #696969;}#sk-container-id-1 label.sk-toggleable__label-arrow:hover:before {color: black;}#sk-container-id-1 div.sk-estimator:hover label.sk-toggleable__label-arrow:before {color: black;}#sk-container-id-1 div.sk-toggleable__content {max-height: 0;max-width: 0;overflow: hidden;text-align: left;background-color: #f0f8ff;}#sk-container-id-1 div.sk-toggleable__content pre {margin: 0.2em;color: black;border-radius: 0.25em;background-color: #f0f8ff;}#sk-container-id-1 input.sk-toggleable__control:checked~div.sk-toggleable__content {max-height: 200px;max-width: 100%;overflow: auto;}#sk-container-id-1 input.sk-toggleable__control:checked~label.sk-toggleable__label-arrow:before {content: \"▾\";}#sk-container-id-1 div.sk-estimator input.sk-toggleable__control:checked~label.sk-toggleable__label {background-color: #d4ebff;}#sk-container-id-1 div.sk-label input.sk-toggleable__control:checked~label.sk-toggleable__label {background-color: #d4ebff;}#sk-container-id-1 input.sk-hidden--visually {border: 0;clip: rect(1px 1px 1px 1px);clip: rect(1px, 1px, 1px, 1px);height: 1px;margin: -1px;overflow: hidden;padding: 0;position: absolute;width: 1px;}#sk-container-id-1 div.sk-estimator {font-family: monospace;background-color: #f0f8ff;border: 1px dotted black;border-radius: 0.25em;box-sizing: border-box;margin-bottom: 0.5em;}#sk-container-id-1 div.sk-estimator:hover {background-color: #d4ebff;}#sk-container-id-1 div.sk-parallel-item::after {content: \"\";width: 100%;border-bottom: 1px solid gray;flex-grow: 1;}#sk-container-id-1 div.sk-label:hover label.sk-toggleable__label {background-color: #d4ebff;}#sk-container-id-1 div.sk-serial::before {content: \"\";position: absolute;border-left: 1px solid gray;box-sizing: border-box;top: 0;bottom: 0;left: 50%;z-index: 0;}#sk-container-id-1 div.sk-serial {display: flex;flex-direction: column;align-items: center;background-color: white;padding-right: 0.2em;padding-left: 0.2em;position: relative;}#sk-container-id-1 div.sk-item {position: relative;z-index: 1;}#sk-container-id-1 div.sk-parallel {display: flex;align-items: stretch;justify-content: center;background-color: white;position: relative;}#sk-container-id-1 div.sk-item::before, #sk-container-id-1 div.sk-parallel-item::before {content: \"\";position: absolute;border-left: 1px solid gray;box-sizing: border-box;top: 0;bottom: 0;left: 50%;z-index: -1;}#sk-container-id-1 div.sk-parallel-item {display: flex;flex-direction: column;z-index: 1;position: relative;background-color: white;}#sk-container-id-1 div.sk-parallel-item:first-child::after {align-self: flex-end;width: 50%;}#sk-container-id-1 div.sk-parallel-item:last-child::after {align-self: flex-start;width: 50%;}#sk-container-id-1 div.sk-parallel-item:only-child::after {width: 0;}#sk-container-id-1 div.sk-dashed-wrapped {border: 1px dashed gray;margin: 0 0.4em 0.5em 0.4em;box-sizing: border-box;padding-bottom: 0.4em;background-color: white;}#sk-container-id-1 div.sk-label label {font-family: monospace;font-weight: bold;display: inline-block;line-height: 1.2em;}#sk-container-id-1 div.sk-label-container {text-align: center;}#sk-container-id-1 div.sk-container {/* jupyter's `normalize.less` sets `[hidden] { display: none; }` but bootstrap.min.css set `[hidden] { display: none !important; }` so we also need the `!important` here to be able to override the default hidden behavior on the sphinx rendered scikit-learn.org. See: https://github.com/scikit-learn/scikit-learn/issues/21755 */display: inline-block !important;position: relative;}#sk-container-id-1 div.sk-text-repr-fallback {display: none;}</style><div id=\"sk-container-id-1\" class=\"sk-top-container\"><div class=\"sk-text-repr-fallback\"><pre>GaussianNB()</pre><b>In a Jupyter environment, please rerun this cell to show the HTML representation or trust the notebook. <br />On GitHub, the HTML representation is unable to render, please try loading this page with nbviewer.org.</b></div><div class=\"sk-container\" hidden><div class=\"sk-item\"><div class=\"sk-estimator sk-toggleable\"><input class=\"sk-toggleable__control sk-hidden--visually\" id=\"sk-estimator-id-1\" type=\"checkbox\" checked><label for=\"sk-estimator-id-1\" class=\"sk-toggleable__label sk-toggleable__label-arrow\">GaussianNB</label><div class=\"sk-toggleable__content\"><pre>GaussianNB()</pre></div></div></div></div></div>"
            ]
          },
          "metadata": {},
          "execution_count": 109
        }
      ]
    },
    {
      "cell_type": "code",
      "source": [
        "y_pred = classifier.predict(x_test )"
      ],
      "metadata": {
        "id": "UrrBwvF0hpfI"
      },
      "execution_count": 110,
      "outputs": []
    },
    {
      "cell_type": "code",
      "source": [
        "from sklearn.metrics import accuracy_score"
      ],
      "metadata": {
        "id": "eEriY7ofhzYv"
      },
      "execution_count": 111,
      "outputs": []
    },
    {
      "cell_type": "code",
      "source": [
        "accuracy_score(y_test ,y_pred)"
      ],
      "metadata": {
        "colab": {
          "base_uri": "https://localhost:8080/"
        },
        "id": "4NGFwPPIh684",
        "outputId": "e5bcb4c7-f099-4814-d785-232731131052"
      },
      "execution_count": 112,
      "outputs": [
        {
          "output_type": "execute_result",
          "data": {
            "text/plain": [
              "0.73"
            ]
          },
          "metadata": {},
          "execution_count": 112
        }
      ]
    }
  ],
  "metadata": {
    "colab": {
      "provenance": []
    },
    "kernelspec": {
      "display_name": "Python 3",
      "name": "python3"
    },
    "language_info": {
      "name": "python"
    }
  },
  "nbformat": 4,
  "nbformat_minor": 0
}